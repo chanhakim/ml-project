{
 "cells": [
  {
   "cell_type": "code",
   "execution_count": 1,
   "id": "54c406ac-6397-480c-aceb-b362e2a57e07",
   "metadata": {},
   "outputs": [],
   "source": [
    "import numpy as np\n",
    "import pandas as pd"
   ]
  },
  {
   "cell_type": "code",
   "execution_count": 37,
   "id": "587d795b-d6f8-4af2-9ca6-3170f91487eb",
   "metadata": {},
   "outputs": [],
   "source": [
    "import os\n",
    "import tqdm"
   ]
  },
  {
   "cell_type": "code",
   "execution_count": 7,
   "id": "b51ae863-fc87-41fc-995b-f0069db773a9",
   "metadata": {},
   "outputs": [
    {
     "data": {
      "text/plain": [
       "['fantasy-data-nba-regular-2015.csv',\n",
       " 'fantasy-data-nba-regular-2014.csv',\n",
       " 'fantasy-data-nba-regular-2016.csv',\n",
       " 'fantasy-data-nba-regular-2017.csv',\n",
       " 'fantasy-data-nba-regular-2013.csv',\n",
       " 'fantasy-data-nba-regular-2012.csv',\n",
       " 'fantasy-data-nba-regular-2010.csv',\n",
       " 'fantasy-data-nba-regular-2011.csv',\n",
       " 'fantasy-data-nba-regular-2020.csv',\n",
       " 'fantasy-data-nba-regular-2021.csv',\n",
       " 'fantasy-data-nba-regular-2009.csv',\n",
       " 'fantasy-data-nba-regular-2022.csv',\n",
       " 'fantasy-data-nba-regular-2019.csv',\n",
       " 'nba-fantasy-regular-columns.csv',\n",
       " 'fantasy-data-nba-regular-2018.csv']"
      ]
     },
     "execution_count": 7,
     "metadata": {},
     "output_type": "execute_result"
    }
   ],
   "source": [
    "DATAPATH = \"../data/fantasy-data-nba-regular\"\n",
    "os.listdir(DATAPATH)"
   ]
  },
  {
   "cell_type": "code",
   "execution_count": 27,
   "id": "348e9478-cdf2-4054-81d7-0eb4d2ade60d",
   "metadata": {},
   "outputs": [
    {
     "data": {
      "text/html": [
       "<div>\n",
       "<style scoped>\n",
       "    .dataframe tbody tr th:only-of-type {\n",
       "        vertical-align: middle;\n",
       "    }\n",
       "\n",
       "    .dataframe tbody tr th {\n",
       "        vertical-align: top;\n",
       "    }\n",
       "\n",
       "    .dataframe thead th {\n",
       "        text-align: right;\n",
       "    }\n",
       "</style>\n",
       "<table border=\"1\" class=\"dataframe\">\n",
       "  <thead>\n",
       "    <tr style=\"text-align: right;\">\n",
       "      <th></th>\n",
       "      <th>GMS</th>\n",
       "      <th>PTS</th>\n",
       "      <th>REB</th>\n",
       "      <th>AST</th>\n",
       "      <th>BLK</th>\n",
       "      <th>STL</th>\n",
       "      <th>FGP</th>\n",
       "      <th>FTP</th>\n",
       "      <th>3PP</th>\n",
       "      <th>FTM</th>\n",
       "      <th>2PM</th>\n",
       "      <th>3PM</th>\n",
       "      <th>TO</th>\n",
       "      <th>MIN</th>\n",
       "      <th>DD2</th>\n",
       "      <th>TD3</th>\n",
       "    </tr>\n",
       "  </thead>\n",
       "  <tbody>\n",
       "    <tr>\n",
       "      <th>0</th>\n",
       "      <td>81</td>\n",
       "      <td>2304</td>\n",
       "      <td>613</td>\n",
       "      <td>587</td>\n",
       "      <td>93</td>\n",
       "      <td>137</td>\n",
       "      <td>48.9</td>\n",
       "      <td>78.0</td>\n",
       "      <td>34.4</td>\n",
       "      <td>594</td>\n",
       "      <td>657</td>\n",
       "      <td>132</td>\n",
       "      <td>241</td>\n",
       "      <td>3054</td>\n",
       "      <td>29</td>\n",
       "      <td>7</td>\n",
       "    </tr>\n",
       "    <tr>\n",
       "      <th>1</th>\n",
       "      <td>79</td>\n",
       "      <td>2386</td>\n",
       "      <td>398</td>\n",
       "      <td>589</td>\n",
       "      <td>106</td>\n",
       "      <td>173</td>\n",
       "      <td>49.1</td>\n",
       "      <td>76.5</td>\n",
       "      <td>31.7</td>\n",
       "      <td>590</td>\n",
       "      <td>766</td>\n",
       "      <td>88</td>\n",
       "      <td>272</td>\n",
       "      <td>3048</td>\n",
       "      <td>20</td>\n",
       "      <td>0</td>\n",
       "    </tr>\n",
       "    <tr>\n",
       "      <th>2</th>\n",
       "      <td>78</td>\n",
       "      <td>1781</td>\n",
       "      <td>432</td>\n",
       "      <td>861</td>\n",
       "      <td>10</td>\n",
       "      <td>216</td>\n",
       "      <td>50.3</td>\n",
       "      <td>86.8</td>\n",
       "      <td>36.4</td>\n",
       "      <td>455</td>\n",
       "      <td>567</td>\n",
       "      <td>64</td>\n",
       "      <td>231</td>\n",
       "      <td>3002</td>\n",
       "      <td>50</td>\n",
       "      <td>6</td>\n",
       "    </tr>\n",
       "    <tr>\n",
       "      <th>3</th>\n",
       "      <td>79</td>\n",
       "      <td>1624</td>\n",
       "      <td>1093</td>\n",
       "      <td>112</td>\n",
       "      <td>231</td>\n",
       "      <td>77</td>\n",
       "      <td>57.2</td>\n",
       "      <td>59.4</td>\n",
       "      <td>0.0</td>\n",
       "      <td>504</td>\n",
       "      <td>560</td>\n",
       "      <td>0</td>\n",
       "      <td>240</td>\n",
       "      <td>2821</td>\n",
       "      <td>63</td>\n",
       "      <td>1</td>\n",
       "    </tr>\n",
       "    <tr>\n",
       "      <th>4</th>\n",
       "      <td>82</td>\n",
       "      <td>2201</td>\n",
       "      <td>429</td>\n",
       "      <td>399</td>\n",
       "      <td>37</td>\n",
       "      <td>120</td>\n",
       "      <td>46.7</td>\n",
       "      <td>85.6</td>\n",
       "      <td>35.1</td>\n",
       "      <td>483</td>\n",
       "      <td>682</td>\n",
       "      <td>118</td>\n",
       "      <td>210</td>\n",
       "      <td>2960</td>\n",
       "      <td>8</td>\n",
       "      <td>2</td>\n",
       "    </tr>\n",
       "  </tbody>\n",
       "</table>\n",
       "</div>"
      ],
      "text/plain": [
       "   GMS   PTS   REB  AST  BLK  STL   FGP   FTP   3PP  FTM  2PM  3PM   TO   MIN  \\\n",
       "0   81  2304   613  587   93  137  48.9  78.0  34.4  594  657  132  241  3054   \n",
       "1   79  2386   398  589  106  173  49.1  76.5  31.7  590  766   88  272  3048   \n",
       "2   78  1781   432  861   10  216  50.3  86.8  36.4  455  567   64  231  3002   \n",
       "3   79  1624  1093  112  231   77  57.2  59.4   0.0  504  560    0  240  2821   \n",
       "4   82  2201   429  399   37  120  46.7  85.6  35.1  483  682  118  210  2960   \n",
       "\n",
       "   DD2  TD3  \n",
       "0   29    7  \n",
       "1   20    0  \n",
       "2   50    6  \n",
       "3   63    1  \n",
       "4    8    2  "
      ]
     },
     "execution_count": 27,
     "metadata": {},
     "output_type": "execute_result"
    }
   ],
   "source": [
    "df2009 = pd.read_csv(DATAPATH+\"/fantasy-data-nba-regular-2009.csv\")\n",
    "df2009.drop(inplace=True,columns=['RK','NAME','TEAM','POS','FPTS'])\n",
    "\n",
    "df2009.head()"
   ]
  },
  {
   "cell_type": "markdown",
   "id": "2e5b73e7-0759-44f5-acd5-d6cac72c88e6",
   "metadata": {},
   "source": [
    "# feature normalization steps\n",
    "* discretize name, team, pos (one-hot encoding)\n",
    "* split data into train/test\n",
    "* normalize train data and test data based on train data stats\n",
    "* save the dataset"
   ]
  },
  {
   "cell_type": "code",
   "execution_count": null,
   "id": "bbbf26bf-faa1-479e-9ab6-c01d64db9402",
   "metadata": {},
   "outputs": [
    {
     "data": {
      "text/plain": [
       "(437,)"
      ]
     },
     "execution_count": 12,
     "metadata": {},
     "output_type": "execute_result"
    }
   ],
   "source": [
    "df2009.NAME.unique().shape"
   ]
  },
  {
   "cell_type": "code",
   "execution_count": null,
   "id": "1ccc8553-d181-46de-a94c-56c7db369e3f",
   "metadata": {},
   "outputs": [
    {
     "data": {
      "text/plain": [
       "(30,)"
      ]
     },
     "execution_count": 13,
     "metadata": {},
     "output_type": "execute_result"
    }
   ],
   "source": [
    "df2009.TEAM.unique().shape"
   ]
  },
  {
   "cell_type": "markdown",
   "id": "c6c18b02-5b78-4cd6-981a-f1a4a85047fb",
   "metadata": {},
   "source": [
    "TODO\n",
    "- [ ] train basic ranking model with decision trees\n",
    "- [ ] run a linear regression model with perceptron\n",
    "- [ ]"
   ]
  },
  {
   "cell_type": "code",
   "execution_count": null,
   "id": "fff4a10d-1402-4ed9-97e3-c23441f62807",
   "metadata": {},
   "outputs": [
    {
     "data": {
      "text/plain": [
       "(438, 21)"
      ]
     },
     "execution_count": 15,
     "metadata": {},
     "output_type": "execute_result"
    }
   ],
   "source": [
    "df2009.shape"
   ]
  },
  {
   "cell_type": "code",
   "execution_count": null,
   "id": "a049d0b7-1b52-4ac7-89be-6281cf2ed971",
   "metadata": {},
   "outputs": [
    {
     "data": {
      "text/plain": [
       "191406"
      ]
     },
     "execution_count": 16,
     "metadata": {},
     "output_type": "execute_result"
    }
   ],
   "source": [
    "438*437"
   ]
  },
  {
   "cell_type": "code",
   "execution_count": null,
   "id": "6cb95ecb-10c4-4fd8-a9da-8ee84c0502c1",
   "metadata": {},
   "outputs": [
    {
     "name": "stdout",
     "output_type": "stream",
     "text": [
      "(191406, 33)\n"
     ]
    }
   ],
   "source": [
    "rows, cols = df2009.shape\n",
    "data = []\n",
    "for rowi in range(rows):\n",
    "    row1 = df2009.iloc[rowi,:].to_numpy()\n",
    "    for rowj in range(rows):\n",
    "        if rowi != rowj:\n",
    "            row2 = df2009.iloc[rowj,:].to_numpy()\n",
    "            transformed_row = np.concatenate([row1, row2, np.array([1]) if rowi < rowj else np.array([-1])])\n",
    "            data.append(transformed_row)\n",
    "data = np.array(data)\n",
    "print(data.shape)"
   ]
  },
  {
   "cell_type": "code",
   "execution_count": null,
   "id": "2172cefd-59cd-4efc-8484-4cedccfa3a57",
   "metadata": {},
   "outputs": [
    {
     "name": "stdout",
     "output_type": "stream",
     "text": [
      "[[ 8.100e+01  2.304e+03  6.130e+02 ...  2.000e+01  0.000e+00  1.000e+00]\n",
      " [ 8.100e+01  2.304e+03  6.130e+02 ...  5.000e+01  6.000e+00  1.000e+00]\n",
      " [ 8.100e+01  2.304e+03  6.130e+02 ...  6.300e+01  1.000e+00  1.000e+00]\n",
      " ...\n",
      " [ 1.000e+00  0.000e+00  0.000e+00 ...  0.000e+00  0.000e+00 -1.000e+00]\n",
      " [ 1.000e+00  0.000e+00  0.000e+00 ...  0.000e+00  0.000e+00 -1.000e+00]\n",
      " [ 1.000e+00  0.000e+00  0.000e+00 ...  0.000e+00  0.000e+00 -1.000e+00]]\n"
     ]
    }
   ],
   "source": [
    "print(data)"
   ]
  },
  {
   "cell_type": "code",
   "execution_count": 77,
   "id": "a0b56e36-197b-449b-b4b2-ff3432078fc1",
   "metadata": {},
   "outputs": [],
   "source": [
    "np.random.shuffle(data)"
   ]
  },
  {
   "cell_type": "code",
   "execution_count": 78,
   "id": "c2a4ef01-77c6-4e00-b17a-c4590da8d2d7",
   "metadata": {},
   "outputs": [
    {
     "name": "stdout",
     "output_type": "stream",
     "text": [
      "95703\n"
     ]
    }
   ],
   "source": [
    "num_samples = data.shape[0]\n",
    "num_train = int(num_samples*0.5)\n",
    "print(num_train)"
   ]
  },
  {
   "cell_type": "code",
   "execution_count": 79,
   "id": "222c7377-f303-43e0-a21a-77f860b9935c",
   "metadata": {},
   "outputs": [],
   "source": [
    "X_train = data[:num_train,:-1]\n",
    "y_train = data[:num_train,-1]\n",
    "X_test = data[num_train:,:-1]\n",
    "y_test = data[num_train:,-1]"
   ]
  },
  {
   "cell_type": "code",
   "execution_count": 80,
   "id": "1763d5ef-45cf-4c2e-a91c-f437d876006f",
   "metadata": {},
   "outputs": [
    {
     "data": {
      "text/plain": [
       "((95703, 32), (95703,), (95703, 32), (95703,))"
      ]
     },
     "execution_count": 80,
     "metadata": {},
     "output_type": "execute_result"
    }
   ],
   "source": [
    "X_train.shape, y_train.shape, X_test.shape, y_test.shape"
   ]
  },
  {
   "cell_type": "code",
   "execution_count": 81,
   "id": "7a10d19c-30c9-4877-be55-dc56613151e7",
   "metadata": {},
   "outputs": [],
   "source": [
    "from sklearn import tree, linear_model"
   ]
  },
  {
   "cell_type": "code",
   "execution_count": 82,
   "id": "bba816b7-d9cd-4d69-a600-9bddf9befd11",
   "metadata": {},
   "outputs": [],
   "source": [
    "model = linear_model.Perceptron()"
   ]
  },
  {
   "cell_type": "code",
   "execution_count": 83,
   "id": "faaf79a5-9b0f-4163-84e8-9908407823ab",
   "metadata": {},
   "outputs": [],
   "source": [
    "model = model.fit(X_train, y_train)"
   ]
  },
  {
   "cell_type": "code",
   "execution_count": 84,
   "id": "a2ac46bb-3d0e-4e35-847f-7890d18f0bdc",
   "metadata": {},
   "outputs": [
    {
     "data": {
      "text/plain": [
       "array([-1.,  1.])"
      ]
     },
     "execution_count": 84,
     "metadata": {},
     "output_type": "execute_result"
    }
   ],
   "source": [
    "model.classes_"
   ]
  },
  {
   "cell_type": "code",
   "execution_count": 85,
   "id": "2c1902f3-cc09-464f-8bd5-1d38c811caeb",
   "metadata": {},
   "outputs": [
    {
     "data": {
      "text/plain": [
       "0.9975444865887172"
      ]
     },
     "execution_count": 85,
     "metadata": {},
     "output_type": "execute_result"
    }
   ],
   "source": [
    "model.score(X_test, y_test)"
   ]
  },
  {
   "cell_type": "markdown",
   "id": "de8bf1e1-3f7a-454e-a62f-a3f8536b37b8",
   "metadata": {},
   "source": [
    "# big loop"
   ]
  },
  {
   "cell_type": "markdown",
   "id": "2057436b-9385-4e85-8d31-6dca82f8fd02",
   "metadata": {},
   "source": [
    "## data preparation"
   ]
  },
  {
   "cell_type": "code",
   "execution_count": 86,
   "id": "5f7d22b9-6bb9-4206-bbe1-1b3fad645981",
   "metadata": {},
   "outputs": [
    {
     "ename": "KeyboardInterrupt",
     "evalue": "",
     "output_type": "error",
     "traceback": [
      "\u001b[0;31m---------------------------------------------------------------------------\u001b[0m",
      "\u001b[0;31mKeyboardInterrupt\u001b[0m                         Traceback (most recent call last)",
      "Input \u001b[0;32mIn [86]\u001b[0m, in \u001b[0;36m<cell line: 2>\u001b[0;34m()\u001b[0m\n\u001b[1;32m      8\u001b[0m \u001b[38;5;28;01mfor\u001b[39;00m rowj \u001b[38;5;129;01min\u001b[39;00m \u001b[38;5;28mrange\u001b[39m(rows):\n\u001b[1;32m      9\u001b[0m     \u001b[38;5;28;01mif\u001b[39;00m rowi \u001b[38;5;241m!=\u001b[39m rowj:\n\u001b[0;32m---> 10\u001b[0m         row2 \u001b[38;5;241m=\u001b[39m \u001b[43mdf\u001b[49m\u001b[38;5;241;43m.\u001b[39;49m\u001b[43miloc\u001b[49m\u001b[43m[\u001b[49m\u001b[43mrowj\u001b[49m\u001b[43m,\u001b[49m\u001b[43m:\u001b[49m\u001b[43m]\u001b[49m\u001b[38;5;241m.\u001b[39mto_numpy()\n\u001b[1;32m     11\u001b[0m         transformed_row \u001b[38;5;241m=\u001b[39m np\u001b[38;5;241m.\u001b[39mconcatenate([row1, row2, np\u001b[38;5;241m.\u001b[39marray([\u001b[38;5;241m1\u001b[39m]) \u001b[38;5;28;01mif\u001b[39;00m rowi \u001b[38;5;241m<\u001b[39m rowj \u001b[38;5;28;01melse\u001b[39;00m np\u001b[38;5;241m.\u001b[39marray([\u001b[38;5;241m-\u001b[39m\u001b[38;5;241m1\u001b[39m])])\n\u001b[1;32m     12\u001b[0m         data\u001b[38;5;241m.\u001b[39mappend(transformed_row)\n",
      "File \u001b[0;32m~/Documents/pomona-8/cs158/ml-project/ml-project/lib/python3.9/site-packages/pandas/core/indexing.py:961\u001b[0m, in \u001b[0;36m_LocationIndexer.__getitem__\u001b[0;34m(self, key)\u001b[0m\n\u001b[1;32m    959\u001b[0m     \u001b[38;5;28;01mif\u001b[39;00m \u001b[38;5;28mself\u001b[39m\u001b[38;5;241m.\u001b[39m_is_scalar_access(key):\n\u001b[1;32m    960\u001b[0m         \u001b[38;5;28;01mreturn\u001b[39;00m \u001b[38;5;28mself\u001b[39m\u001b[38;5;241m.\u001b[39mobj\u001b[38;5;241m.\u001b[39m_get_value(\u001b[38;5;241m*\u001b[39mkey, takeable\u001b[38;5;241m=\u001b[39m\u001b[38;5;28mself\u001b[39m\u001b[38;5;241m.\u001b[39m_takeable)\n\u001b[0;32m--> 961\u001b[0m     \u001b[38;5;28;01mreturn\u001b[39;00m \u001b[38;5;28;43mself\u001b[39;49m\u001b[38;5;241;43m.\u001b[39;49m\u001b[43m_getitem_tuple\u001b[49m\u001b[43m(\u001b[49m\u001b[43mkey\u001b[49m\u001b[43m)\u001b[49m\n\u001b[1;32m    962\u001b[0m \u001b[38;5;28;01melse\u001b[39;00m:\n\u001b[1;32m    963\u001b[0m     \u001b[38;5;66;03m# we by definition only have the 0th axis\u001b[39;00m\n\u001b[1;32m    964\u001b[0m     axis \u001b[38;5;241m=\u001b[39m \u001b[38;5;28mself\u001b[39m\u001b[38;5;241m.\u001b[39maxis \u001b[38;5;129;01mor\u001b[39;00m \u001b[38;5;241m0\u001b[39m\n",
      "File \u001b[0;32m~/Documents/pomona-8/cs158/ml-project/ml-project/lib/python3.9/site-packages/pandas/core/indexing.py:1460\u001b[0m, in \u001b[0;36m_iLocIndexer._getitem_tuple\u001b[0;34m(self, tup)\u001b[0m\n\u001b[1;32m   1458\u001b[0m tup \u001b[38;5;241m=\u001b[39m \u001b[38;5;28mself\u001b[39m\u001b[38;5;241m.\u001b[39m_validate_tuple_indexer(tup)\n\u001b[1;32m   1459\u001b[0m \u001b[38;5;28;01mwith\u001b[39;00m suppress(IndexingError):\n\u001b[0;32m-> 1460\u001b[0m     \u001b[38;5;28;01mreturn\u001b[39;00m \u001b[38;5;28;43mself\u001b[39;49m\u001b[38;5;241;43m.\u001b[39;49m\u001b[43m_getitem_lowerdim\u001b[49m\u001b[43m(\u001b[49m\u001b[43mtup\u001b[49m\u001b[43m)\u001b[49m\n\u001b[1;32m   1462\u001b[0m \u001b[38;5;28;01mreturn\u001b[39;00m \u001b[38;5;28mself\u001b[39m\u001b[38;5;241m.\u001b[39m_getitem_tuple_same_dim(tup)\n",
      "File \u001b[0;32m~/Documents/pomona-8/cs158/ml-project/ml-project/lib/python3.9/site-packages/pandas/core/indexing.py:867\u001b[0m, in \u001b[0;36m_LocationIndexer._getitem_lowerdim\u001b[0;34m(self, tup)\u001b[0m\n\u001b[1;32m    863\u001b[0m \u001b[38;5;28;01mfor\u001b[39;00m i, key \u001b[38;5;129;01min\u001b[39;00m \u001b[38;5;28menumerate\u001b[39m(tup):\n\u001b[1;32m    864\u001b[0m     \u001b[38;5;28;01mif\u001b[39;00m is_label_like(key):\n\u001b[1;32m    865\u001b[0m         \u001b[38;5;66;03m# We don't need to check for tuples here because those are\u001b[39;00m\n\u001b[1;32m    866\u001b[0m         \u001b[38;5;66;03m#  caught by the _is_nested_tuple_indexer check above.\u001b[39;00m\n\u001b[0;32m--> 867\u001b[0m         section \u001b[38;5;241m=\u001b[39m \u001b[38;5;28;43mself\u001b[39;49m\u001b[38;5;241;43m.\u001b[39;49m\u001b[43m_getitem_axis\u001b[49m\u001b[43m(\u001b[49m\u001b[43mkey\u001b[49m\u001b[43m,\u001b[49m\u001b[43m \u001b[49m\u001b[43maxis\u001b[49m\u001b[38;5;241;43m=\u001b[39;49m\u001b[43mi\u001b[49m\u001b[43m)\u001b[49m\n\u001b[1;32m    869\u001b[0m         \u001b[38;5;66;03m# We should never have a scalar section here, because\u001b[39;00m\n\u001b[1;32m    870\u001b[0m         \u001b[38;5;66;03m#  _getitem_lowerdim is only called after a check for\u001b[39;00m\n\u001b[1;32m    871\u001b[0m         \u001b[38;5;66;03m#  is_scalar_access, which that would be.\u001b[39;00m\n\u001b[1;32m    872\u001b[0m         \u001b[38;5;28;01mif\u001b[39;00m section\u001b[38;5;241m.\u001b[39mndim \u001b[38;5;241m==\u001b[39m \u001b[38;5;28mself\u001b[39m\u001b[38;5;241m.\u001b[39mndim:\n\u001b[1;32m    873\u001b[0m             \u001b[38;5;66;03m# we're in the middle of slicing through a MultiIndex\u001b[39;00m\n\u001b[1;32m    874\u001b[0m             \u001b[38;5;66;03m# revise the key wrt to `section` by inserting an _NS\u001b[39;00m\n",
      "File \u001b[0;32m~/Documents/pomona-8/cs158/ml-project/ml-project/lib/python3.9/site-packages/pandas/core/indexing.py:1522\u001b[0m, in \u001b[0;36m_iLocIndexer._getitem_axis\u001b[0;34m(self, key, axis)\u001b[0m\n\u001b[1;32m   1519\u001b[0m \u001b[38;5;66;03m# validate the location\u001b[39;00m\n\u001b[1;32m   1520\u001b[0m \u001b[38;5;28mself\u001b[39m\u001b[38;5;241m.\u001b[39m_validate_integer(key, axis)\n\u001b[0;32m-> 1522\u001b[0m \u001b[38;5;28;01mreturn\u001b[39;00m \u001b[38;5;28;43mself\u001b[39;49m\u001b[38;5;241;43m.\u001b[39;49m\u001b[43mobj\u001b[49m\u001b[38;5;241;43m.\u001b[39;49m\u001b[43m_ixs\u001b[49m\u001b[43m(\u001b[49m\u001b[43mkey\u001b[49m\u001b[43m,\u001b[49m\u001b[43m \u001b[49m\u001b[43maxis\u001b[49m\u001b[38;5;241;43m=\u001b[39;49m\u001b[43maxis\u001b[49m\u001b[43m)\u001b[49m\n",
      "File \u001b[0;32m~/Documents/pomona-8/cs158/ml-project/ml-project/lib/python3.9/site-packages/pandas/core/frame.py:3424\u001b[0m, in \u001b[0;36mDataFrame._ixs\u001b[0;34m(self, i, axis)\u001b[0m\n\u001b[1;32m   3422\u001b[0m \u001b[38;5;66;03m# irow\u001b[39;00m\n\u001b[1;32m   3423\u001b[0m \u001b[38;5;28;01mif\u001b[39;00m axis \u001b[38;5;241m==\u001b[39m \u001b[38;5;241m0\u001b[39m:\n\u001b[0;32m-> 3424\u001b[0m     new_values \u001b[38;5;241m=\u001b[39m \u001b[38;5;28;43mself\u001b[39;49m\u001b[38;5;241;43m.\u001b[39;49m\u001b[43m_mgr\u001b[49m\u001b[38;5;241;43m.\u001b[39;49m\u001b[43mfast_xs\u001b[49m\u001b[43m(\u001b[49m\u001b[43mi\u001b[49m\u001b[43m)\u001b[49m\n\u001b[1;32m   3426\u001b[0m     \u001b[38;5;66;03m# if we are a copy, mark as such\u001b[39;00m\n\u001b[1;32m   3427\u001b[0m     copy \u001b[38;5;241m=\u001b[39m \u001b[38;5;28misinstance\u001b[39m(new_values, np\u001b[38;5;241m.\u001b[39mndarray) \u001b[38;5;129;01mand\u001b[39;00m new_values\u001b[38;5;241m.\u001b[39mbase \u001b[38;5;129;01mis\u001b[39;00m \u001b[38;5;28;01mNone\u001b[39;00m\n",
      "File \u001b[0;32m~/Documents/pomona-8/cs158/ml-project/ml-project/lib/python3.9/site-packages/pandas/core/internals/managers.py:1005\u001b[0m, in \u001b[0;36mBlockManager.fast_xs\u001b[0;34m(self, loc)\u001b[0m\n\u001b[1;32m   1003\u001b[0m     result \u001b[38;5;241m=\u001b[39m \u001b[38;5;28mcls\u001b[39m\u001b[38;5;241m.\u001b[39m_empty((n,), dtype\u001b[38;5;241m=\u001b[39mdtype)\n\u001b[1;32m   1004\u001b[0m \u001b[38;5;28;01melse\u001b[39;00m:\n\u001b[0;32m-> 1005\u001b[0m     result \u001b[38;5;241m=\u001b[39m \u001b[43mnp\u001b[49m\u001b[38;5;241;43m.\u001b[39;49m\u001b[43mempty\u001b[49m(n, dtype\u001b[38;5;241m=\u001b[39mdtype)\n\u001b[1;32m   1006\u001b[0m     result \u001b[38;5;241m=\u001b[39m ensure_wrapped_if_datetimelike(result)\n\u001b[1;32m   1008\u001b[0m \u001b[38;5;28;01mfor\u001b[39;00m blk \u001b[38;5;129;01min\u001b[39;00m \u001b[38;5;28mself\u001b[39m\u001b[38;5;241m.\u001b[39mblocks:\n\u001b[1;32m   1009\u001b[0m     \u001b[38;5;66;03m# Such assignment may incorrectly coerce NaT to None\u001b[39;00m\n\u001b[1;32m   1010\u001b[0m     \u001b[38;5;66;03m# result[blk.mgr_locs] = blk._slice((slice(None), loc))\u001b[39;00m\n",
      "\u001b[0;31mKeyboardInterrupt\u001b[0m: "
     ]
    }
   ],
   "source": [
    "data = []\n",
    "for year in tqdm.tqdm(range(2009, 2022)):\n",
    "    df = pd.read_csv(DATAPATH+\"/fantasy-data-nba-regular-{}.csv\".format(year))\n",
    "    df.drop(inplace=True,columns=['RK','NAME','TEAM','POS','FPTS'])\n",
    "    rows, cols = df.shape\n",
    "    for rowi in range(rows):\n",
    "        row1 = df.iloc[rowi,:].to_numpy()\n",
    "        for rowj in range(rows):\n",
    "            if rowi != rowj:\n",
    "                row2 = df.iloc[rowj,:].to_numpy()\n",
    "                transformed_row = np.concatenate([row1, row2, np.array([1]) if rowi < rowj else np.array([-1])])\n",
    "                data.append(transformed_row)\n",
    "data = np.array(data)"
   ]
  },
  {
   "cell_type": "code",
   "execution_count": null,
   "id": "65a3ec40-6f02-46a2-b045-c975ae00775e",
   "metadata": {},
   "outputs": [],
   "source": []
  }
 ],
 "metadata": {
  "kernelspec": {
   "display_name": "Python 3 (ipykernel)",
   "language": "python",
   "name": "python3"
  },
  "language_info": {
   "codemirror_mode": {
    "name": "ipython",
    "version": 3
   },
   "file_extension": ".py",
   "mimetype": "text/x-python",
   "name": "python",
   "nbconvert_exporter": "python",
   "pygments_lexer": "ipython3",
   "version": "3.9.12"
  }
 },
 "nbformat": 4,
 "nbformat_minor": 5
}
