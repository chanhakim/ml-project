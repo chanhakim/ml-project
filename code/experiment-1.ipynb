{
 "cells": [
  {
   "cell_type": "code",
   "execution_count": 1,
   "id": "b9b1d635",
   "metadata": {},
   "outputs": [],
   "source": [
    "import numpy as np\n",
    "import pandas as pd\n",
    "import os\n",
    "import tqdm\n",
    "from sklearn import tree, linear_model"
   ]
  },
  {
   "cell_type": "code",
   "execution_count": 2,
   "id": "91d55913",
   "metadata": {},
   "outputs": [
    {
     "data": {
      "text/plain": [
       "['fantasy-data-nba-regular-2015.csv',\n",
       " 'fantasy-data-nba-regular-2014.csv',\n",
       " 'fantasy-data-nba-regular-2016.csv',\n",
       " 'fantasy-data-nba-regular-2017.csv',\n",
       " 'fantasy-data-nba-regular-2013.csv',\n",
       " 'fantasy-data-nba-regular-2012.csv',\n",
       " 'fantasy-data-nba-regular-2010.csv',\n",
       " 'fantasy-data-nba-regular-2011.csv',\n",
       " 'fantasy-data-nba-regular-2020.csv',\n",
       " 'fantasy-data-nba-regular-2021.csv',\n",
       " 'fantasy-data-nba-regular-2009.csv',\n",
       " 'fantasy-data-nba-regular-2022.csv',\n",
       " 'fantasy-data-nba-regular-2019.csv',\n",
       " 'nba-fantasy-regular-columns.csv',\n",
       " 'fantasy-data-nba-regular-2018.csv']"
      ]
     },
     "execution_count": 2,
     "metadata": {},
     "output_type": "execute_result"
    }
   ],
   "source": [
    "DATAPATH = \"../data/fantasy-data-nba-regular\"\n",
    "os.listdir(DATAPATH)"
   ]
  },
  {
   "cell_type": "code",
   "execution_count": 3,
   "id": "b4469b0d",
   "metadata": {},
   "outputs": [],
   "source": [
    "splityear = 2010"
   ]
  },
  {
   "cell_type": "code",
   "execution_count": 4,
   "id": "dd8c66aa",
   "metadata": {},
   "outputs": [
    {
     "name": "stderr",
     "output_type": "stream",
     "text": [
      "100%|█| 1/1 [0\n"
     ]
    },
    {
     "data": {
      "text/plain": [
       "((191406, 32), (191406,))"
      ]
     },
     "execution_count": 4,
     "metadata": {},
     "output_type": "execute_result"
    }
   ],
   "source": [
    "# prepare train data (fantasy data nba regular seasons 2009-2021)\n",
    "train = []\n",
    "for year in tqdm.tqdm(range(2009, splityear)):\n",
    "    df = pd.read_csv(DATAPATH+\"/fantasy-data-nba-regular-{}.csv\".format(year))\n",
    "    df.drop(inplace=True,columns=['RK','NAME','TEAM','POS','FPTS'])\n",
    "    rows, cols = df.shape\n",
    "    for rowi in range(rows):\n",
    "        row1 = df.iloc[rowi,:].to_numpy()\n",
    "        for rowj in range(rows):\n",
    "            if rowi != rowj:\n",
    "                row2 = df.iloc[rowj,:].to_numpy()\n",
    "                transformed_row = np.concatenate([row1, row2, np.array([1]) if rowi < rowj else np.array([-1])])\n",
    "                train.append(transformed_row)\n",
    "train = np.array(train)\n",
    "np.random.shuffle(train)\n",
    "X_train = train[:,:-1]\n",
    "y_train = train[:,-1]\n",
    "X_train.shape, y_train.shape"
   ]
  },
  {
   "cell_type": "code",
   "execution_count": 5,
   "id": "aaf875a9",
   "metadata": {},
   "outputs": [
    {
     "name": "stderr",
     "output_type": "stream",
     "text": [
      "100%|█| 13/13 \n"
     ]
    },
    {
     "data": {
      "text/plain": [
       "((5333120, 32), (5333120,))"
      ]
     },
     "execution_count": 5,
     "metadata": {},
     "output_type": "execute_result"
    }
   ],
   "source": [
    "# prepare test data (fantasy data nba regular season 2022)\n",
    "test = []\n",
    "for year in tqdm.tqdm(range(splityear, 2023)):\n",
    "    df = pd.read_csv(DATAPATH+\"/fantasy-data-nba-regular-2022.csv\".format(year))\n",
    "    df.drop(inplace=True,columns=['RK','NAME','TEAM','POS','FPTS'])\n",
    "    rows, cols = df.shape\n",
    "    for rowi in range(rows):\n",
    "        row1 = df.iloc[rowi,:].to_numpy()\n",
    "        for rowj in range(rows):\n",
    "            if rowi != rowj:\n",
    "                row2 = df.iloc[rowj,:].to_numpy()\n",
    "                transformed_row = np.concatenate([row1, row2, np.array([1]) if rowi < rowj else np.array([-1])])\n",
    "                test.append(transformed_row)\n",
    "test = np.array(test)\n",
    "np.random.shuffle(train)\n",
    "X_test = test[:,:-1]\n",
    "y_test = test[:,-1]\n",
    "X_test.shape, y_test.shape"
   ]
  },
  {
   "cell_type": "code",
   "execution_count": 7,
   "id": "7c3e9eda",
   "metadata": {},
   "outputs": [
    {
     "data": {
      "text/plain": [
       "(0.9949113402923628, 0.9939669461778471)"
      ]
     },
     "execution_count": 7,
     "metadata": {},
     "output_type": "execute_result"
    }
   ],
   "source": [
    "# train and test model\n",
    "model = linear_model.Perceptron()\n",
    "model = model.fit(X_train, y_train)\n",
    "model.score(X_train, y_train), model.score(X_test, y_test)"
   ]
  },
  {
   "cell_type": "code",
   "execution_count": null,
   "id": "b7736924",
   "metadata": {},
   "outputs": [],
   "source": []
  }
 ],
 "metadata": {
  "kernelspec": {
   "display_name": "Python 3 (ipykernel)",
   "language": "python",
   "name": "python3"
  },
  "language_info": {
   "codemirror_mode": {
    "name": "ipython",
    "version": 3
   },
   "file_extension": ".py",
   "mimetype": "text/x-python",
   "name": "python",
   "nbconvert_exporter": "python",
   "pygments_lexer": "ipython3",
   "version": "3.9.12"
  }
 },
 "nbformat": 4,
 "nbformat_minor": 5
}
