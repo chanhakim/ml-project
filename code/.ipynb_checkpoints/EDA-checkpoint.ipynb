{
 "cells": [
  {
   "cell_type": "code",
   "execution_count": 1,
   "id": "54c406ac-6397-480c-aceb-b362e2a57e07",
   "metadata": {},
   "outputs": [],
   "source": [
    "import numpy as np\n",
    "import pandas as pd"
   ]
  },
  {
   "cell_type": "code",
   "execution_count": 3,
   "id": "587d795b-d6f8-4af2-9ca6-3170f91487eb",
   "metadata": {},
   "outputs": [],
   "source": [
    "import os"
   ]
  },
  {
   "cell_type": "code",
   "execution_count": 7,
   "id": "b51ae863-fc87-41fc-995b-f0069db773a9",
   "metadata": {},
   "outputs": [
    {
     "data": {
      "text/plain": [
       "['fantasy-data-nba-regular-2015.csv',\n",
       " 'fantasy-data-nba-regular-2014.csv',\n",
       " 'fantasy-data-nba-regular-2016.csv',\n",
       " 'fantasy-data-nba-regular-2017.csv',\n",
       " 'fantasy-data-nba-regular-2013.csv',\n",
       " 'fantasy-data-nba-regular-2012.csv',\n",
       " 'fantasy-data-nba-regular-2010.csv',\n",
       " 'fantasy-data-nba-regular-2011.csv',\n",
       " 'fantasy-data-nba-regular-2020.csv',\n",
       " 'fantasy-data-nba-regular-2021.csv',\n",
       " 'fantasy-data-nba-regular-2009.csv',\n",
       " 'fantasy-data-nba-regular-2022.csv',\n",
       " 'fantasy-data-nba-regular-2019.csv',\n",
       " 'nba-fantasy-regular-columns.csv',\n",
       " 'fantasy-data-nba-regular-2018.csv']"
      ]
     },
     "execution_count": 7,
     "metadata": {},
     "output_type": "execute_result"
    }
   ],
   "source": [
    "DATAPATH = \"../data/fantasy-data-nba-regular\"\n",
    "os.listdir(DATAPATH)"
   ]
  },
  {
   "cell_type": "code",
   "execution_count": 8,
   "id": "348e9478-cdf2-4054-81d7-0eb4d2ade60d",
   "metadata": {},
   "outputs": [],
   "source": [
    "df2009 = pd.read_csv(DATAPATH+\"/fantasy-data-nba-regular-2009.csv\")"
   ]
  },
  {
   "cell_type": "code",
   "execution_count": 9,
   "id": "8c85e387-3d31-4d7a-8f13-e093fdc31f4e",
   "metadata": {},
   "outputs": [
    {
     "data": {
      "text/html": [
       "<div>\n",
       "<style scoped>\n",
       "    .dataframe tbody tr th:only-of-type {\n",
       "        vertical-align: middle;\n",
       "    }\n",
       "\n",
       "    .dataframe tbody tr th {\n",
       "        vertical-align: top;\n",
       "    }\n",
       "\n",
       "    .dataframe thead th {\n",
       "        text-align: right;\n",
       "    }\n",
       "</style>\n",
       "<table border=\"1\" class=\"dataframe\">\n",
       "  <thead>\n",
       "    <tr style=\"text-align: right;\">\n",
       "      <th></th>\n",
       "      <th>RK</th>\n",
       "      <th>NAME</th>\n",
       "      <th>TEAM</th>\n",
       "      <th>POS</th>\n",
       "      <th>GMS</th>\n",
       "      <th>PTS</th>\n",
       "      <th>REB</th>\n",
       "      <th>AST</th>\n",
       "      <th>BLK</th>\n",
       "      <th>STL</th>\n",
       "      <th>...</th>\n",
       "      <th>FTP</th>\n",
       "      <th>3PP</th>\n",
       "      <th>FTM</th>\n",
       "      <th>2PM</th>\n",
       "      <th>3PM</th>\n",
       "      <th>TO</th>\n",
       "      <th>MIN</th>\n",
       "      <th>DD2</th>\n",
       "      <th>TD3</th>\n",
       "      <th>FPTS</th>\n",
       "    </tr>\n",
       "  </thead>\n",
       "  <tbody>\n",
       "    <tr>\n",
       "      <th>0</th>\n",
       "      <td>1</td>\n",
       "      <td>LeBron James</td>\n",
       "      <td>CLE</td>\n",
       "      <td>SF</td>\n",
       "      <td>81</td>\n",
       "      <td>2304</td>\n",
       "      <td>613</td>\n",
       "      <td>587</td>\n",
       "      <td>93</td>\n",
       "      <td>137</td>\n",
       "      <td>...</td>\n",
       "      <td>78.0</td>\n",
       "      <td>34.4</td>\n",
       "      <td>594</td>\n",
       "      <td>657</td>\n",
       "      <td>132</td>\n",
       "      <td>241</td>\n",
       "      <td>3054</td>\n",
       "      <td>29</td>\n",
       "      <td>7</td>\n",
       "      <td>4139.1</td>\n",
       "    </tr>\n",
       "    <tr>\n",
       "      <th>1</th>\n",
       "      <td>2</td>\n",
       "      <td>Dwyane Wade</td>\n",
       "      <td>MIA</td>\n",
       "      <td>SG</td>\n",
       "      <td>79</td>\n",
       "      <td>2386</td>\n",
       "      <td>398</td>\n",
       "      <td>589</td>\n",
       "      <td>106</td>\n",
       "      <td>173</td>\n",
       "      <td>...</td>\n",
       "      <td>76.5</td>\n",
       "      <td>31.7</td>\n",
       "      <td>590</td>\n",
       "      <td>766</td>\n",
       "      <td>88</td>\n",
       "      <td>272</td>\n",
       "      <td>3048</td>\n",
       "      <td>20</td>\n",
       "      <td>0</td>\n",
       "      <td>4033.1</td>\n",
       "    </tr>\n",
       "    <tr>\n",
       "      <th>2</th>\n",
       "      <td>3</td>\n",
       "      <td>Chris Paul</td>\n",
       "      <td>NO</td>\n",
       "      <td>PG</td>\n",
       "      <td>78</td>\n",
       "      <td>1781</td>\n",
       "      <td>432</td>\n",
       "      <td>861</td>\n",
       "      <td>10</td>\n",
       "      <td>216</td>\n",
       "      <td>...</td>\n",
       "      <td>86.8</td>\n",
       "      <td>36.4</td>\n",
       "      <td>455</td>\n",
       "      <td>567</td>\n",
       "      <td>64</td>\n",
       "      <td>231</td>\n",
       "      <td>3002</td>\n",
       "      <td>50</td>\n",
       "      <td>6</td>\n",
       "      <td>3811.9</td>\n",
       "    </tr>\n",
       "    <tr>\n",
       "      <th>3</th>\n",
       "      <td>4</td>\n",
       "      <td>Dwight Howard</td>\n",
       "      <td>ORL</td>\n",
       "      <td>C</td>\n",
       "      <td>79</td>\n",
       "      <td>1624</td>\n",
       "      <td>1093</td>\n",
       "      <td>112</td>\n",
       "      <td>231</td>\n",
       "      <td>77</td>\n",
       "      <td>...</td>\n",
       "      <td>59.4</td>\n",
       "      <td>0.0</td>\n",
       "      <td>504</td>\n",
       "      <td>560</td>\n",
       "      <td>0</td>\n",
       "      <td>240</td>\n",
       "      <td>2821</td>\n",
       "      <td>63</td>\n",
       "      <td>1</td>\n",
       "      <td>3479.6</td>\n",
       "    </tr>\n",
       "    <tr>\n",
       "      <th>4</th>\n",
       "      <td>5</td>\n",
       "      <td>Kobe Bryant</td>\n",
       "      <td>LAL</td>\n",
       "      <td>SF</td>\n",
       "      <td>82</td>\n",
       "      <td>2201</td>\n",
       "      <td>429</td>\n",
       "      <td>399</td>\n",
       "      <td>37</td>\n",
       "      <td>120</td>\n",
       "      <td>...</td>\n",
       "      <td>85.6</td>\n",
       "      <td>35.1</td>\n",
       "      <td>483</td>\n",
       "      <td>682</td>\n",
       "      <td>118</td>\n",
       "      <td>210</td>\n",
       "      <td>2960</td>\n",
       "      <td>8</td>\n",
       "      <td>2</td>\n",
       "      <td>3418.3</td>\n",
       "    </tr>\n",
       "  </tbody>\n",
       "</table>\n",
       "<p>5 rows × 21 columns</p>\n",
       "</div>"
      ],
      "text/plain": [
       "   RK           NAME TEAM POS  GMS   PTS   REB  AST  BLK  STL  ...   FTP  \\\n",
       "0   1   LeBron James  CLE  SF   81  2304   613  587   93  137  ...  78.0   \n",
       "1   2    Dwyane Wade  MIA  SG   79  2386   398  589  106  173  ...  76.5   \n",
       "2   3     Chris Paul   NO  PG   78  1781   432  861   10  216  ...  86.8   \n",
       "3   4  Dwight Howard  ORL   C   79  1624  1093  112  231   77  ...  59.4   \n",
       "4   5    Kobe Bryant  LAL  SF   82  2201   429  399   37  120  ...  85.6   \n",
       "\n",
       "    3PP  FTM  2PM  3PM   TO   MIN  DD2  TD3    FPTS  \n",
       "0  34.4  594  657  132  241  3054   29    7  4139.1  \n",
       "1  31.7  590  766   88  272  3048   20    0  4033.1  \n",
       "2  36.4  455  567   64  231  3002   50    6  3811.9  \n",
       "3   0.0  504  560    0  240  2821   63    1  3479.6  \n",
       "4  35.1  483  682  118  210  2960    8    2  3418.3  \n",
       "\n",
       "[5 rows x 21 columns]"
      ]
     },
     "execution_count": 9,
     "metadata": {},
     "output_type": "execute_result"
    }
   ],
   "source": [
    "df2009.head()"
   ]
  },
  {
   "cell_type": "markdown",
   "id": "2e5b73e7-0759-44f5-acd5-d6cac72c88e6",
   "metadata": {},
   "source": [
    "# feature normalization steps\n",
    "* discretize name, team, pos (one-hot encoding)\n",
    "* split data into train/test\n",
    "* normalize train data and test data based on train data stats\n",
    "* save the dataset"
   ]
  },
  {
   "cell_type": "code",
   "execution_count": 12,
   "id": "bbbf26bf-faa1-479e-9ab6-c01d64db9402",
   "metadata": {},
   "outputs": [
    {
     "data": {
      "text/plain": [
       "(437,)"
      ]
     },
     "execution_count": 12,
     "metadata": {},
     "output_type": "execute_result"
    }
   ],
   "source": [
    "df2009.NAME.unique().shape"
   ]
  },
  {
   "cell_type": "code",
   "execution_count": 13,
   "id": "1ccc8553-d181-46de-a94c-56c7db369e3f",
   "metadata": {},
   "outputs": [
    {
     "data": {
      "text/plain": [
       "(30,)"
      ]
     },
     "execution_count": 13,
     "metadata": {},
     "output_type": "execute_result"
    }
   ],
   "source": [
    "df2009.TEAM.unique().shape"
   ]
  },
  {
   "cell_type": "code",
   "execution_count": null,
   "id": "cd61ce5d-5a10-4049-8967-102a689ca12d",
   "metadata": {},
   "outputs": [],
   "source": []
  }
 ],
 "metadata": {
  "kernelspec": {
   "display_name": "Python 3 (ipykernel)",
   "language": "python",
   "name": "python3"
  },
  "language_info": {
   "codemirror_mode": {
    "name": "ipython",
    "version": 3
   },
   "file_extension": ".py",
   "mimetype": "text/x-python",
   "name": "python",
   "nbconvert_exporter": "python",
   "pygments_lexer": "ipython3",
   "version": "3.9.12"
  }
 },
 "nbformat": 4,
 "nbformat_minor": 5
}
